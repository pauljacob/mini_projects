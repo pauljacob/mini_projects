{
 "cells": [
  {
   "cell_type": "code",
   "execution_count": 1,
   "metadata": {
    "_cell_guid": "b1076dfc-b9ad-4769-8c92-a6c4dae69d19",
    "_uuid": "8f2839f25d086af736a60e9eeb907d3b93b6e0e5",
    "execution": {
     "iopub.execute_input": "2021-02-28T02:39:37.274127Z",
     "iopub.status.busy": "2021-02-28T02:39:37.273371Z",
     "iopub.status.idle": "2021-02-28T02:39:37.285534Z",
     "shell.execute_reply": "2021-02-28T02:39:37.284807Z"
    },
    "papermill": {
     "duration": 0.03321,
     "end_time": "2021-02-28T02:39:37.285752",
     "exception": false,
     "start_time": "2021-02-28T02:39:37.252542",
     "status": "completed"
    },
    "tags": []
   },
   "outputs": [
    {
     "name": "stdout",
     "output_type": "stream",
     "text": [
      "/kaggle/input/starbucks-menu/starbucks_drinkMenu_expanded.csv\n",
      "/kaggle/input/starbucks-menu/starbucks-menu-nutrition-drinks.csv\n",
      "/kaggle/input/starbucks-menu/starbucks-menu-nutrition-food.csv\n"
     ]
    }
   ],
   "source": [
    "# This Python 3 environment comes with many helpful analytics libraries installed\n",
    "# It is defined by the kaggle/python Docker image: https://github.com/kaggle/docker-python\n",
    "# For example, here's several helpful packages to load\n",
    "\n",
    "import numpy as np # linear algebra\n",
    "import pandas as pd # data processing, CSV file I/O (e.g. pd.read_csv)\n",
    "\n",
    "# Input data files are available in the read-only \"../input/\" directory\n",
    "# For example, running this (by clicking run or pressing Shift+Enter) will list all files under the input directory\n",
    "\n",
    "import os\n",
    "for dirname, _, filenames in os.walk('/kaggle/input'):\n",
    "    for filename in filenames:\n",
    "        print(os.path.join(dirname, filename))\n",
    "\n",
    "# You can write up to 20GB to the current directory (/kaggle/working/) that gets preserved as output when you create a version using \"Save & Run All\" \n",
    "# You can also write temporary files to /kaggle/temp/, but they won't be saved outside of the current session"
   ]
  },
  {
   "cell_type": "markdown",
   "metadata": {
    "papermill": {
     "duration": 0.0137,
     "end_time": "2021-02-28T02:39:37.313778",
     "exception": false,
     "start_time": "2021-02-28T02:39:37.300078",
     "status": "completed"
    },
    "tags": []
   },
   "source": [
    "# 1.Importing Data"
   ]
  },
  {
   "cell_type": "code",
   "execution_count": 2,
   "metadata": {
    "execution": {
     "iopub.execute_input": "2021-02-28T02:39:37.348558Z",
     "iopub.status.busy": "2021-02-28T02:39:37.347833Z",
     "iopub.status.idle": "2021-02-28T02:39:38.825849Z",
     "shell.execute_reply": "2021-02-28T02:39:38.824845Z"
    },
    "papermill": {
     "duration": 1.497866,
     "end_time": "2021-02-28T02:39:38.826058",
     "exception": false,
     "start_time": "2021-02-28T02:39:37.328192",
     "status": "completed"
    },
    "tags": []
   },
   "outputs": [],
   "source": [
    "import pandas as pd\n",
    "import numpy as np\n",
    "import matplotlib.pyplot as plt \n",
    "\n",
    "from sklearn.cluster import KMeans\n",
    "from scipy.cluster.hierarchy import linkage, dendrogram\n",
    "\n",
    "from sklearn.cluster import AgglomerativeClustering"
   ]
  },
  {
   "cell_type": "code",
   "execution_count": 3,
   "metadata": {
    "execution": {
     "iopub.execute_input": "2021-02-28T02:39:38.858859Z",
     "iopub.status.busy": "2021-02-28T02:39:38.858207Z",
     "iopub.status.idle": "2021-02-28T02:39:38.911356Z",
     "shell.execute_reply": "2021-02-28T02:39:38.911863Z"
    },
    "papermill": {
     "duration": 0.072039,
     "end_time": "2021-02-28T02:39:38.912081",
     "exception": false,
     "start_time": "2021-02-28T02:39:38.840042",
     "status": "completed"
    },
    "tags": []
   },
   "outputs": [
    {
     "data": {
      "text/html": [
       "<div>\n",
       "<style scoped>\n",
       "    .dataframe tbody tr th:only-of-type {\n",
       "        vertical-align: middle;\n",
       "    }\n",
       "\n",
       "    .dataframe tbody tr th {\n",
       "        vertical-align: top;\n",
       "    }\n",
       "\n",
       "    .dataframe thead th {\n",
       "        text-align: right;\n",
       "    }\n",
       "</style>\n",
       "<table border=\"1\" class=\"dataframe\">\n",
       "  <thead>\n",
       "    <tr style=\"text-align: right;\">\n",
       "      <th></th>\n",
       "      <th>Beverage_category</th>\n",
       "      <th>Beverage</th>\n",
       "      <th>Beverage_prep</th>\n",
       "      <th>Calories</th>\n",
       "      <th>Total Fat (g)</th>\n",
       "      <th>Trans Fat (g)</th>\n",
       "      <th>Saturated Fat (g)</th>\n",
       "      <th>Sodium (mg)</th>\n",
       "      <th>Total Carbohydrates (g)</th>\n",
       "      <th>Cholesterol (mg)</th>\n",
       "      <th>Dietary Fibre (g)</th>\n",
       "      <th>Sugars (g)</th>\n",
       "      <th>Protein (g)</th>\n",
       "      <th>Vitamin A (% DV)</th>\n",
       "      <th>Vitamin C (% DV)</th>\n",
       "      <th>Calcium (% DV)</th>\n",
       "      <th>Iron (% DV)</th>\n",
       "      <th>Caffeine (mg)</th>\n",
       "    </tr>\n",
       "  </thead>\n",
       "  <tbody>\n",
       "    <tr>\n",
       "      <th>0</th>\n",
       "      <td>Coffee</td>\n",
       "      <td>Brewed Coffee</td>\n",
       "      <td>Short</td>\n",
       "      <td>3</td>\n",
       "      <td>0.1</td>\n",
       "      <td>0.0</td>\n",
       "      <td>0.0</td>\n",
       "      <td>0</td>\n",
       "      <td>5</td>\n",
       "      <td>0</td>\n",
       "      <td>0</td>\n",
       "      <td>0</td>\n",
       "      <td>0.3</td>\n",
       "      <td>0%</td>\n",
       "      <td>0%</td>\n",
       "      <td>0%</td>\n",
       "      <td>0%</td>\n",
       "      <td>175</td>\n",
       "    </tr>\n",
       "    <tr>\n",
       "      <th>1</th>\n",
       "      <td>Coffee</td>\n",
       "      <td>Brewed Coffee</td>\n",
       "      <td>Tall</td>\n",
       "      <td>4</td>\n",
       "      <td>0.1</td>\n",
       "      <td>0.0</td>\n",
       "      <td>0.0</td>\n",
       "      <td>0</td>\n",
       "      <td>10</td>\n",
       "      <td>0</td>\n",
       "      <td>0</td>\n",
       "      <td>0</td>\n",
       "      <td>0.5</td>\n",
       "      <td>0%</td>\n",
       "      <td>0%</td>\n",
       "      <td>0%</td>\n",
       "      <td>0%</td>\n",
       "      <td>260</td>\n",
       "    </tr>\n",
       "    <tr>\n",
       "      <th>2</th>\n",
       "      <td>Coffee</td>\n",
       "      <td>Brewed Coffee</td>\n",
       "      <td>Grande</td>\n",
       "      <td>5</td>\n",
       "      <td>0.1</td>\n",
       "      <td>0.0</td>\n",
       "      <td>0.0</td>\n",
       "      <td>0</td>\n",
       "      <td>10</td>\n",
       "      <td>0</td>\n",
       "      <td>0</td>\n",
       "      <td>0</td>\n",
       "      <td>1.0</td>\n",
       "      <td>0%</td>\n",
       "      <td>0%</td>\n",
       "      <td>0%</td>\n",
       "      <td>0%</td>\n",
       "      <td>330</td>\n",
       "    </tr>\n",
       "    <tr>\n",
       "      <th>3</th>\n",
       "      <td>Coffee</td>\n",
       "      <td>Brewed Coffee</td>\n",
       "      <td>Venti</td>\n",
       "      <td>5</td>\n",
       "      <td>0.1</td>\n",
       "      <td>0.0</td>\n",
       "      <td>0.0</td>\n",
       "      <td>0</td>\n",
       "      <td>10</td>\n",
       "      <td>0</td>\n",
       "      <td>0</td>\n",
       "      <td>0</td>\n",
       "      <td>1.0</td>\n",
       "      <td>0%</td>\n",
       "      <td>0%</td>\n",
       "      <td>2%</td>\n",
       "      <td>0%</td>\n",
       "      <td>410</td>\n",
       "    </tr>\n",
       "    <tr>\n",
       "      <th>4</th>\n",
       "      <td>Classic Espresso Drinks</td>\n",
       "      <td>Caffè Latte</td>\n",
       "      <td>Short Nonfat Milk</td>\n",
       "      <td>70</td>\n",
       "      <td>0.1</td>\n",
       "      <td>0.1</td>\n",
       "      <td>0.0</td>\n",
       "      <td>5</td>\n",
       "      <td>75</td>\n",
       "      <td>10</td>\n",
       "      <td>0</td>\n",
       "      <td>9</td>\n",
       "      <td>6.0</td>\n",
       "      <td>10%</td>\n",
       "      <td>0%</td>\n",
       "      <td>20%</td>\n",
       "      <td>0%</td>\n",
       "      <td>75</td>\n",
       "    </tr>\n",
       "  </tbody>\n",
       "</table>\n",
       "</div>"
      ],
      "text/plain": [
       "         Beverage_category       Beverage      Beverage_prep  Calories  \\\n",
       "0                   Coffee  Brewed Coffee              Short         3   \n",
       "1                   Coffee  Brewed Coffee               Tall         4   \n",
       "2                   Coffee  Brewed Coffee             Grande         5   \n",
       "3                   Coffee  Brewed Coffee              Venti         5   \n",
       "4  Classic Espresso Drinks    Caffè Latte  Short Nonfat Milk        70   \n",
       "\n",
       "   Total Fat (g)  Trans Fat (g)   Saturated Fat (g)   Sodium (mg)  \\\n",
       "0            0.1             0.0                0.0             0   \n",
       "1            0.1             0.0                0.0             0   \n",
       "2            0.1             0.0                0.0             0   \n",
       "3            0.1             0.0                0.0             0   \n",
       "4            0.1             0.1                0.0             5   \n",
       "\n",
       "    Total Carbohydrates (g)   Cholesterol (mg)   Dietary Fibre (g)  \\\n",
       "0                          5                 0                   0   \n",
       "1                         10                 0                   0   \n",
       "2                         10                 0                   0   \n",
       "3                         10                 0                   0   \n",
       "4                         75                10                   0   \n",
       "\n",
       "    Sugars (g)   Protein (g)  Vitamin A (% DV)  Vitamin C (% DV)  \\\n",
       "0            0            0.3                0%               0%   \n",
       "1            0            0.5                0%               0%   \n",
       "2            0            1.0                0%               0%   \n",
       "3            0            1.0                0%               0%   \n",
       "4            9            6.0               10%               0%   \n",
       "\n",
       "   Calcium (% DV)  Iron (% DV)  Caffeine (mg)  \n",
       "0               0%           0%           175  \n",
       "1               0%           0%           260  \n",
       "2               0%           0%           330  \n",
       "3               2%           0%           410  \n",
       "4              20%           0%            75  "
      ]
     },
     "execution_count": 3,
     "metadata": {},
     "output_type": "execute_result"
    }
   ],
   "source": [
    "menu = pd.read_csv(\"/kaggle/input/starbucks-menu/starbucks_drinkMenu_expanded.csv\")\n",
    "menu.head()"
   ]
  },
  {
   "cell_type": "code",
   "execution_count": 4,
   "metadata": {
    "execution": {
     "iopub.execute_input": "2021-02-28T02:39:38.947553Z",
     "iopub.status.busy": "2021-02-28T02:39:38.946571Z",
     "iopub.status.idle": "2021-02-28T02:39:38.950291Z",
     "shell.execute_reply": "2021-02-28T02:39:38.950891Z"
    },
    "papermill": {
     "duration": 0.024528,
     "end_time": "2021-02-28T02:39:38.951108",
     "exception": false,
     "start_time": "2021-02-28T02:39:38.926580",
     "status": "completed"
    },
    "tags": []
   },
   "outputs": [
    {
     "data": {
      "text/plain": [
       "(242, 18)"
      ]
     },
     "execution_count": 4,
     "metadata": {},
     "output_type": "execute_result"
    }
   ],
   "source": [
    "menu.shape"
   ]
  },
  {
   "cell_type": "markdown",
   "metadata": {
    "papermill": {
     "duration": 0.014243,
     "end_time": "2021-02-28T02:39:38.979982",
     "exception": false,
     "start_time": "2021-02-28T02:39:38.965739",
     "status": "completed"
    },
    "tags": []
   },
   "source": [
    "# 2. Preprocessing"
   ]
  },
  {
   "cell_type": "code",
   "execution_count": 5,
   "metadata": {
    "execution": {
     "iopub.execute_input": "2021-02-28T02:39:39.013336Z",
     "iopub.status.busy": "2021-02-28T02:39:39.012354Z",
     "iopub.status.idle": "2021-02-28T02:39:39.043441Z",
     "shell.execute_reply": "2021-02-28T02:39:39.042658Z"
    },
    "papermill": {
     "duration": 0.048988,
     "end_time": "2021-02-28T02:39:39.043620",
     "exception": false,
     "start_time": "2021-02-28T02:39:38.994632",
     "status": "completed"
    },
    "tags": []
   },
   "outputs": [],
   "source": [
    "menu = menu.replace('Varies', np.nan) \n",
    "menu = menu.replace('varies', np.nan) \n",
    "menu = menu.dropna(axis=0)"
   ]
  },
  {
   "cell_type": "code",
   "execution_count": 6,
   "metadata": {
    "execution": {
     "iopub.execute_input": "2021-02-28T02:39:39.097113Z",
     "iopub.status.busy": "2021-02-28T02:39:39.085455Z",
     "iopub.status.idle": "2021-02-28T02:39:39.099752Z",
     "shell.execute_reply": "2021-02-28T02:39:39.100266Z"
    },
    "papermill": {
     "duration": 0.04155,
     "end_time": "2021-02-28T02:39:39.100482",
     "exception": false,
     "start_time": "2021-02-28T02:39:39.058932",
     "status": "completed"
    },
    "tags": []
   },
   "outputs": [
    {
     "name": "stdout",
     "output_type": "stream",
     "text": [
      "<class 'pandas.core.frame.DataFrame'>\n",
      "Int64Index: 219 entries, 0 to 241\n",
      "Data columns (total 18 columns):\n",
      " #   Column                     Non-Null Count  Dtype  \n",
      "---  ------                     --------------  -----  \n",
      " 0   Beverage_category          219 non-null    object \n",
      " 1   Beverage                   219 non-null    object \n",
      " 2   Beverage_prep              219 non-null    object \n",
      " 3   Calories                   219 non-null    int64  \n",
      " 4    Total Fat (g)             219 non-null    object \n",
      " 5   Trans Fat (g)              219 non-null    float64\n",
      " 6   Saturated Fat (g)          219 non-null    float64\n",
      " 7    Sodium (mg)               219 non-null    int64  \n",
      " 8    Total Carbohydrates (g)   219 non-null    int64  \n",
      " 9   Cholesterol (mg)           219 non-null    int64  \n",
      " 10   Dietary Fibre (g)         219 non-null    int64  \n",
      " 11   Sugars (g)                219 non-null    int64  \n",
      " 12   Protein (g)               219 non-null    float64\n",
      " 13  Vitamin A (% DV)           219 non-null    object \n",
      " 14  Vitamin C (% DV)           219 non-null    object \n",
      " 15   Calcium (% DV)            219 non-null    object \n",
      " 16  Iron (% DV)                219 non-null    object \n",
      " 17  Caffeine (mg)              219 non-null    object \n",
      "dtypes: float64(3), int64(6), object(9)\n",
      "memory usage: 32.5+ KB\n"
     ]
    }
   ],
   "source": [
    "menu.info()"
   ]
  },
  {
   "cell_type": "code",
   "execution_count": 7,
   "metadata": {
    "execution": {
     "iopub.execute_input": "2021-02-28T02:39:39.142355Z",
     "iopub.status.busy": "2021-02-28T02:39:39.141635Z",
     "iopub.status.idle": "2021-02-28T02:39:39.146173Z",
     "shell.execute_reply": "2021-02-28T02:39:39.145533Z"
    },
    "papermill": {
     "duration": 0.030098,
     "end_time": "2021-02-28T02:39:39.146331",
     "exception": false,
     "start_time": "2021-02-28T02:39:39.116233",
     "status": "completed"
    },
    "tags": []
   },
   "outputs": [
    {
     "name": "stderr",
     "output_type": "stream",
     "text": [
      "/opt/conda/lib/python3.7/site-packages/ipykernel_launcher.py:2: SettingWithCopyWarning: \n",
      "A value is trying to be set on a copy of a slice from a DataFrame.\n",
      "Try using .loc[row_indexer,col_indexer] = value instead\n",
      "\n",
      "See the caveats in the documentation: https://pandas.pydata.org/pandas-docs/stable/user_guide/indexing.html#returning-a-view-versus-a-copy\n",
      "  \n"
     ]
    }
   ],
   "source": [
    "menu2 = menu.iloc[:,[3,17]]\n",
    "menu2['Caffeine'] = menu['Caffeine (mg)']\n",
    "menu2 = menu2.drop('Caffeine (mg)',axis=1)\n",
    "\n",
    "menu2 = menu2.astype('int64')"
   ]
  },
  {
   "cell_type": "code",
   "execution_count": 8,
   "metadata": {
    "execution": {
     "iopub.execute_input": "2021-02-28T02:39:39.180915Z",
     "iopub.status.busy": "2021-02-28T02:39:39.180337Z",
     "iopub.status.idle": "2021-02-28T02:39:39.195080Z",
     "shell.execute_reply": "2021-02-28T02:39:39.194462Z"
    },
    "papermill": {
     "duration": 0.033378,
     "end_time": "2021-02-28T02:39:39.195230",
     "exception": false,
     "start_time": "2021-02-28T02:39:39.161852",
     "status": "completed"
    },
    "tags": []
   },
   "outputs": [
    {
     "data": {
      "text/html": [
       "<div>\n",
       "<style scoped>\n",
       "    .dataframe tbody tr th:only-of-type {\n",
       "        vertical-align: middle;\n",
       "    }\n",
       "\n",
       "    .dataframe tbody tr th {\n",
       "        vertical-align: top;\n",
       "    }\n",
       "\n",
       "    .dataframe thead th {\n",
       "        text-align: right;\n",
       "    }\n",
       "</style>\n",
       "<table border=\"1\" class=\"dataframe\">\n",
       "  <thead>\n",
       "    <tr style=\"text-align: right;\">\n",
       "      <th></th>\n",
       "      <th>Calories</th>\n",
       "      <th>Caffeine</th>\n",
       "    </tr>\n",
       "  </thead>\n",
       "  <tbody>\n",
       "    <tr>\n",
       "      <th>0</th>\n",
       "      <td>3</td>\n",
       "      <td>175</td>\n",
       "    </tr>\n",
       "    <tr>\n",
       "      <th>1</th>\n",
       "      <td>4</td>\n",
       "      <td>260</td>\n",
       "    </tr>\n",
       "    <tr>\n",
       "      <th>2</th>\n",
       "      <td>5</td>\n",
       "      <td>330</td>\n",
       "    </tr>\n",
       "    <tr>\n",
       "      <th>3</th>\n",
       "      <td>5</td>\n",
       "      <td>410</td>\n",
       "    </tr>\n",
       "    <tr>\n",
       "      <th>4</th>\n",
       "      <td>70</td>\n",
       "      <td>75</td>\n",
       "    </tr>\n",
       "    <tr>\n",
       "      <th>...</th>\n",
       "      <td>...</td>\n",
       "      <td>...</td>\n",
       "    </tr>\n",
       "    <tr>\n",
       "      <th>237</th>\n",
       "      <td>320</td>\n",
       "      <td>0</td>\n",
       "    </tr>\n",
       "    <tr>\n",
       "      <th>238</th>\n",
       "      <td>170</td>\n",
       "      <td>0</td>\n",
       "    </tr>\n",
       "    <tr>\n",
       "      <th>239</th>\n",
       "      <td>200</td>\n",
       "      <td>0</td>\n",
       "    </tr>\n",
       "    <tr>\n",
       "      <th>240</th>\n",
       "      <td>180</td>\n",
       "      <td>0</td>\n",
       "    </tr>\n",
       "    <tr>\n",
       "      <th>241</th>\n",
       "      <td>240</td>\n",
       "      <td>0</td>\n",
       "    </tr>\n",
       "  </tbody>\n",
       "</table>\n",
       "<p>219 rows × 2 columns</p>\n",
       "</div>"
      ],
      "text/plain": [
       "     Calories  Caffeine\n",
       "0           3       175\n",
       "1           4       260\n",
       "2           5       330\n",
       "3           5       410\n",
       "4          70        75\n",
       "..        ...       ...\n",
       "237       320         0\n",
       "238       170         0\n",
       "239       200         0\n",
       "240       180         0\n",
       "241       240         0\n",
       "\n",
       "[219 rows x 2 columns]"
      ]
     },
     "execution_count": 8,
     "metadata": {},
     "output_type": "execute_result"
    }
   ],
   "source": [
    "menu2"
   ]
  },
  {
   "cell_type": "markdown",
   "metadata": {
    "papermill": {
     "duration": 0.015744,
     "end_time": "2021-02-28T02:39:39.228478",
     "exception": false,
     "start_time": "2021-02-28T02:39:39.212734",
     "status": "completed"
    },
    "tags": []
   },
   "source": [
    "# 3. Visualization"
   ]
  },
  {
   "cell_type": "code",
   "execution_count": 9,
   "metadata": {
    "execution": {
     "iopub.execute_input": "2021-02-28T02:39:39.269089Z",
     "iopub.status.busy": "2021-02-28T02:39:39.266779Z",
     "iopub.status.idle": "2021-02-28T02:39:39.476535Z",
     "shell.execute_reply": "2021-02-28T02:39:39.477102Z"
    },
    "papermill": {
     "duration": 0.23267,
     "end_time": "2021-02-28T02:39:39.477306",
     "exception": false,
     "start_time": "2021-02-28T02:39:39.244636",
     "status": "completed"
    },
    "tags": []
   },
   "outputs": [
    {
     "data": {
      "image/png": "[encoded data removed]",
      "text/plain": [
       "<Figure size 432x432 with 1 Axes>"
      ]
     },
     "metadata": {
      "needs_background": "light"
     },
     "output_type": "display_data"
    }
   ],
   "source": [
    "plt.figure(figsize=(6,6))\n",
    "plt.scatter(menu2['Calories'],menu2['Caffeine'], color='green')\n",
    "plt.xlabel(\"Calories\")\n",
    "plt.ylabel(\"Caffeine (mg)\")\n",
    "plt.tight_layout()\n",
    "plt.show()"
   ]
  },
  {
   "cell_type": "markdown",
   "metadata": {
    "papermill": {
     "duration": 0.017589,
     "end_time": "2021-02-28T02:39:39.512523",
     "exception": false,
     "start_time": "2021-02-28T02:39:39.494934",
     "status": "completed"
    },
    "tags": []
   },
   "source": [
    "# 4. KMeans"
   ]
  },
  {
   "cell_type": "code",
   "execution_count": 10,
   "metadata": {
    "execution": {
     "iopub.execute_input": "2021-02-28T02:39:39.559505Z",
     "iopub.status.busy": "2021-02-28T02:39:39.558646Z",
     "iopub.status.idle": "2021-02-28T02:39:40.445291Z",
     "shell.execute_reply": "2021-02-28T02:39:40.444599Z"
    },
    "papermill": {
     "duration": 0.914035,
     "end_time": "2021-02-28T02:39:40.445471",
     "exception": false,
     "start_time": "2021-02-28T02:39:39.531436",
     "status": "completed"
    },
    "tags": []
   },
   "outputs": [
    {
     "data": {
      "image/png": "[encoded data removed]",
      "text/plain": [
       "<Figure size 432x432 with 1 Axes>"
      ]
     },
     "metadata": {
      "needs_background": "light"
     },
     "output_type": "display_data"
    }
   ],
   "source": [
    "wcss = []\n",
    "\n",
    "for k in range(1,15):\n",
    "    kmeans = KMeans(n_clusters=k)\n",
    "    kmeans.fit(menu2)\n",
    "    wcss.append(kmeans.inertia_)\n",
    "plt.figure(figsize=(6,6))\n",
    "plt.plot(range(1,15),wcss)\n",
    "plt.xlabel(\"Number of k (cluster) value\")\n",
    "plt.ylabel(\"wcss\")\n",
    "plt.show()"
   ]
  },
  {
   "cell_type": "code",
   "execution_count": 11,
   "metadata": {
    "execution": {
     "iopub.execute_input": "2021-02-28T02:39:40.492908Z",
     "iopub.status.busy": "2021-02-28T02:39:40.491817Z",
     "iopub.status.idle": "2021-02-28T02:39:40.528839Z",
     "shell.execute_reply": "2021-02-28T02:39:40.528086Z"
    },
    "papermill": {
     "duration": 0.06415,
     "end_time": "2021-02-28T02:39:40.529051",
     "exception": false,
     "start_time": "2021-02-28T02:39:40.464901",
     "status": "completed"
    },
    "tags": []
   },
   "outputs": [],
   "source": [
    "# We can take elbow as 4\n",
    "kmean2 = KMeans(n_clusters=4)\n",
    "clusters = kmean2.fit_predict(menu2)\n",
    "\n",
    "menu2['labels'] = clusters"
   ]
  },
  {
   "cell_type": "code",
   "execution_count": 12,
   "metadata": {
    "execution": {
     "iopub.execute_input": "2021-02-28T02:39:40.603805Z",
     "iopub.status.busy": "2021-02-28T02:39:40.577977Z",
     "iopub.status.idle": "2021-02-28T02:39:40.759156Z",
     "shell.execute_reply": "2021-02-28T02:39:40.758395Z"
    },
    "papermill": {
     "duration": 0.210846,
     "end_time": "2021-02-28T02:39:40.759330",
     "exception": false,
     "start_time": "2021-02-28T02:39:40.548484",
     "status": "completed"
    },
    "tags": []
   },
   "outputs": [
    {
     "data": {
      "image/png": "[encoded data removed]",
      "text/plain": [
       "<Figure size 504x432 with 1 Axes>"
      ]
     },
     "metadata": {
      "needs_background": "light"
     },
     "output_type": "display_data"
    }
   ],
   "source": [
    "plt.figure(figsize=(7,6))\n",
    "colors = {0:\"red\", 1:\"blue\", 2:\"green\", 3:\"purple\"}\n",
    "for label,color in colors.items():\n",
    "    plt.scatter(menu2.Calories[menu2.labels == label],\n",
    "                menu2.Caffeine[menu2.labels == label], color = color)\n",
    "plt.scatter(kmean2.cluster_centers_[:,0], kmean2.cluster_centers_[:,1],color='black',marker='*',linewidths=2)\n",
    "plt.show()"
   ]
  },
  {
   "cell_type": "markdown",
   "metadata": {
    "papermill": {
     "duration": 0.019142,
     "end_time": "2021-02-28T02:39:40.798647",
     "exception": false,
     "start_time": "2021-02-28T02:39:40.779505",
     "status": "completed"
    },
    "tags": []
   },
   "source": [
    "# 5. Hierarchial Clustering"
   ]
  },
  {
   "cell_type": "code",
   "execution_count": 13,
   "metadata": {
    "execution": {
     "iopub.execute_input": "2021-02-28T02:39:40.846541Z",
     "iopub.status.busy": "2021-02-28T02:39:40.845470Z",
     "iopub.status.idle": "2021-02-28T02:39:40.849059Z",
     "shell.execute_reply": "2021-02-28T02:39:40.848380Z"
    },
    "papermill": {
     "duration": 0.02974,
     "end_time": "2021-02-28T02:39:40.849222",
     "exception": false,
     "start_time": "2021-02-28T02:39:40.819482",
     "status": "completed"
    },
    "tags": []
   },
   "outputs": [],
   "source": [
    "menu3 = menu2.iloc[:,menu2.columns != 'labels']"
   ]
  },
  {
   "cell_type": "code",
   "execution_count": 14,
   "metadata": {
    "execution": {
     "iopub.execute_input": "2021-02-28T02:39:40.896861Z",
     "iopub.status.busy": "2021-02-28T02:39:40.895777Z",
     "iopub.status.idle": "2021-02-28T02:39:48.068728Z",
     "shell.execute_reply": "2021-02-28T02:39:48.069280Z"
    },
    "papermill": {
     "duration": 7.199732,
     "end_time": "2021-02-28T02:39:48.069512",
     "exception": false,
     "start_time": "2021-02-28T02:39:40.869780",
     "status": "completed"
    },
    "scrolled": true,
    "tags": []
   },
   "outputs": [
    {
     "data": {
      "image/png": "[encoded data removed]",
      "text/plain": [
       "<Figure size 432x288 with 1 Axes>"
      ]
     },
     "metadata": {
      "needs_background": "light"
     },
     "output_type": "display_data"
    }
   ],
   "source": [
    "merg = linkage(menu3, method='ward')\n",
    "dendrogram(merg,leaf_rotation=90)\n",
    "plt.xlabel(\"Data points\")\n",
    "plt.ylabel('Euclidean Distance')\n",
    "plt.show()"
   ]
  },
  {
   "cell_type": "code",
   "execution_count": 15,
   "metadata": {
    "execution": {
     "iopub.execute_input": "2021-02-28T02:39:48.118303Z",
     "iopub.status.busy": "2021-02-28T02:39:48.117551Z",
     "iopub.status.idle": "2021-02-28T02:39:48.127076Z",
     "shell.execute_reply": "2021-02-28T02:39:48.127646Z"
    },
    "papermill": {
     "duration": 0.036432,
     "end_time": "2021-02-28T02:39:48.127857",
     "exception": false,
     "start_time": "2021-02-28T02:39:48.091425",
     "status": "completed"
    },
    "tags": []
   },
   "outputs": [],
   "source": [
    "hierarc_cluster = AgglomerativeClustering(n_clusters=4, affinity='euclidean', linkage='ward')\n",
    "clust = hierarc_cluster.fit_predict(menu3)\n",
    "\n",
    "menu3['labels'] = clust"
   ]
  },
  {
   "cell_type": "code",
   "execution_count": 16,
   "metadata": {
    "execution": {
     "iopub.execute_input": "2021-02-28T02:39:48.175876Z",
     "iopub.status.busy": "2021-02-28T02:39:48.175065Z",
     "iopub.status.idle": "2021-02-28T02:39:48.346963Z",
     "shell.execute_reply": "2021-02-28T02:39:48.347562Z"
    },
    "papermill": {
     "duration": 0.197401,
     "end_time": "2021-02-28T02:39:48.347773",
     "exception": false,
     "start_time": "2021-02-28T02:39:48.150372",
     "status": "completed"
    },
    "tags": []
   },
   "outputs": [
    {
     "data": {
      "image/png": "[encoded data removed]",
      "text/plain": [
       "<Figure size 504x432 with 1 Axes>"
      ]
     },
     "metadata": {
      "needs_background": "light"
     },
     "output_type": "display_data"
    }
   ],
   "source": [
    "plt.figure(figsize=(7,6))\n",
    "colors = {0:\"red\", 1:\"blue\", 2:\"green\", 3:\"purple\"}\n",
    "for label,color in colors.items():\n",
    "    plt.scatter(menu3.Calories[menu3.labels == label],\n",
    "                menu3.Caffeine[menu3.labels == label], color = color)\n",
    "\n",
    "plt.show()"
   ]
  },
  {
   "cell_type": "code",
   "execution_count": null,
   "metadata": {
    "papermill": {
     "duration": 0.024265,
     "end_time": "2021-02-28T02:39:48.394980",
     "exception": false,
     "start_time": "2021-02-28T02:39:48.370715",
     "status": "completed"
    },
    "tags": []
   },
   "outputs": [],
   "source": []
  }
 ],
 "metadata": {
  "kernelspec": {
   "display_name": "Python 3",
   "language": "python",
   "name": "python3"
  },
  "language_info": {
   "codemirror_mode": {
    "name": "ipython",
    "version": 3
   },
   "file_extension": ".py",
   "mimetype": "text/x-python",
   "name": "python",
   "nbconvert_exporter": "python",
   "pygments_lexer": "ipython3",
   "version": "3.8.5"
  },
  "papermill": {
   "default_parameters": {},
   "duration": 17.960385,
   "end_time": "2021-02-28T02:39:49.128399",
   "environment_variables": {},
   "exception": null,
   "input_path": "__notebook__.ipynb",
   "output_path": "__notebook__.ipynb",
   "parameters": {},
   "start_time": "2021-02-28T02:39:31.168014",
   "version": "2.2.2"
  }
 },
 "nbformat": 4,
 "nbformat_minor": 4
}
